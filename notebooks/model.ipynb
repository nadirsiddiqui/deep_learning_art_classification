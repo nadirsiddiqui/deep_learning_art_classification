{
 "cells": [
  {
   "attachments": {},
   "cell_type": "markdown",
   "metadata": {},
   "source": [
    "# Load Packages"
   ]
  },
  {
   "cell_type": "code",
   "execution_count": null,
   "metadata": {
    "vscode": {
     "languageId": "plaintext"
    }
   },
   "outputs": [],
   "source": [
    "# Import sklearn\n",
    "import sklearn\n",
    "from sklearn.datasets import load_files \n",
    "\n",
    "# Import torch \n",
    "import torch\n",
    "import torch.nn as nn\n",
    "from torch import manual_seed as torch_manual_seed\n",
    "from torch import Generator\n",
    "from torch.optim import Adam\n",
    "from torch.cuda import max_memory_allocated, set_device, manual_seed_all\n",
    "from torch.backends import cudnn\n",
    "from torch.utils.data import DataLoader, random_split\n",
    "from torchvision.transforms import ToTensor, transforms\n",
    "from torchvision.datasets import ImageFolder\n",
    "from torchvision import datasets, models, transforms\n",
    "import torch.nn.functional as nnf\n",
    "\n",
    "# Import other packages\n",
    "import pandas as pd\n",
    "import numpy as np\n",
    "import matplotlib as mpl\n",
    "import matplotlib.pyplot as plt\n",
    "import sys\n",
    "import os\n",
    "import PIL\n",
    "import PIL.Image\n",
    "import random\n",
    "from functools import partial\n",
    "from timeit import default_timer as timer"
   ]
  },
  {
   "attachments": {},
   "cell_type": "markdown",
   "metadata": {},
   "source": [
    "# Random Seed for Reproduction"
   ]
  },
  {
   "cell_type": "code",
   "execution_count": null,
   "metadata": {
    "vscode": {
     "languageId": "plaintext"
    }
   },
   "outputs": [],
   "source": [
    "def setup_seed(seed):\n",
    "    torch_manual_seed(seed)\n",
    "    manual_seed_all(seed)\n",
    "    np.random.seed(seed)\n",
    "    random.seed(seed)\n",
    "    cudnn.deterministic = True\n",
    "\n",
    "SEED = 42\n",
    "setup_seed(SEED)"
   ]
  },
  {
   "attachments": {},
   "cell_type": "markdown",
   "metadata": {},
   "source": [
    "# Import Data"
   ]
  },
  {
   "cell_type": "code",
   "execution_count": null,
   "metadata": {
    "vscode": {
     "languageId": "plaintext"
    }
   },
   "outputs": [],
   "source": [
    "data_dir = \"data/\""
   ]
  },
  {
   "cell_type": "code",
   "execution_count": null,
   "metadata": {
    "vscode": {
     "languageId": "plaintext"
    }
   },
   "outputs": [],
   "source": [
    "# Download and load the training data\n",
    "dataset_all = ImageFolder(data_dir, transform=transforms.ToTensor())\n",
    "\n",
    "# Print number in full data set\n",
    "size_all = len(dataset_all)\n",
    "print(f'Before splitting the full dataset into train and test: len(dataset_all) = {size_all}')\n",
    "\n",
    "# Split into Test, Validation, and Training\n",
    "size_test = int(size_all * 0.10)\n",
    "size_val = int(size_all * 0.20)\n",
    "size_train = size_all - size_test - size_val\n",
    "dataset_test, dataset_val, dataset_train = random_split(dataset_all, [size_test, size_val, size_train], \n",
    "                                                        generator=Generator().manual_seed(SEED))\n",
    "\n",
    "print(f'After splitting the full dataset into test, validation, and training: \\n \\\n",
    "      len(dataset_test) = {len(dataset_test)} \\n \\\n",
    "      len(dataset_val) = {len(dataset_val)} \\n \\\n",
    "      len(dataset_train) = {len(dataset_train)}')"
   ]
  },
  {
   "cell_type": "code",
   "execution_count": null,
   "metadata": {
    "vscode": {
     "languageId": "plaintext"
    }
   },
   "outputs": [],
   "source": [
    "from torchvision.transforms.functional import to_pil_image\n",
    "\n",
    "# Visualize some of the train samples of one batch\n",
    "# Make sure you create the class names that match the order of their appearances in the \"files\" variable\n",
    "class_names = ['02', '03', '04', '05', '08', '10']\n",
    "\n",
    "# Rows and columns are set to fit one training batch (32)\n",
    "n_rows = 8\n",
    "n_cols = 4\n",
    "plt.figure(figsize=(n_cols * 3, n_rows * 3))\n",
    "for row in range(n_rows):\n",
    "    for col in range(n_cols):\n",
    "        index = n_cols * row + col\n",
    "        plt.subplot(n_rows, n_cols, index + 1)\n",
    "        image, target = dataset_train[index]\n",
    "        plt.imshow(to_pil_image(image))\n",
    "        plt.axis('off')\n",
    "        plt.title(class_names[target], fontsize=12)\n",
    "plt.subplots_adjust(wspace=.2, hspace=.2)\n",
    "plt.show()"
   ]
  }
 ],
 "metadata": {
  "language_info": {
   "name": "python"
  },
  "orig_nbformat": 4
 },
 "nbformat": 4,
 "nbformat_minor": 2
}
